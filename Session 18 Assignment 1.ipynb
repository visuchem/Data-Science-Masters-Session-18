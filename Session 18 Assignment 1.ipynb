{
 "cells": [
  {
   "cell_type": "code",
   "execution_count": 1,
   "metadata": {},
   "outputs": [],
   "source": [
    "# Blood glucose levels for obese patients have a mean of 100 with a standard deviation of\n",
    "# 15. A researcher thinks that a diet high in raw cornstarch will have a positive effect on\n",
    "# blood glucose levels. A sample of 36 patients who have tried the raw cornstarch diet\n",
    "# have a mean glucose level of 108. Test the hypothesis that the raw cornstarch had an\n",
    "# effect or not."
   ]
  },
  {
   "cell_type": "code",
   "execution_count": 2,
   "metadata": {},
   "outputs": [],
   "source": [
    "# Importing libraries\n",
    "\n",
    "import numpy as np\n",
    "import scipy.stats as stats\n",
    "import math"
   ]
  },
  {
   "cell_type": "code",
   "execution_count": 4,
   "metadata": {},
   "outputs": [
    {
     "data": {
      "text/plain": [
       "0.9993128620620841"
      ]
     },
     "execution_count": 4,
     "metadata": {},
     "output_type": "execute_result"
    }
   ],
   "source": [
    "mu = 100\n",
    "sigma = 15\n",
    "\n",
    "sample_no = 36\n",
    "sample_mean =108\n",
    "\n",
    "# Our Hypothesis\n",
    "\n",
    "# H0 : Blood glucose levels remain the same(have no effect) even after following the cornstarch diet. mu = 100\n",
    "# H1 : Blood glucose levels increase(have positive effect) after following the cornstarch diet. mu > 100\n",
    "\n",
    "p = stats.norm.cdf(sample_mean, mu, (sigma/math.sqrt(sample_no)))\n",
    "p\n"
   ]
  },
  {
   "cell_type": "code",
   "execution_count": 5,
   "metadata": {},
   "outputs": [
    {
     "data": {
      "text/plain": [
       "0.0006871379379158604"
      ]
     },
     "execution_count": 5,
     "metadata": {},
     "output_type": "execute_result"
    }
   ],
   "source": [
    "p_bar = 1 - p \n",
    "p_bar"
   ]
  },
  {
   "cell_type": "code",
   "execution_count": 6,
   "metadata": {},
   "outputs": [
    {
     "name": "stdout",
     "output_type": "stream",
     "text": [
      "We reject the Null hypothesis i.e. raw cornstarch diet has a positive effect on glucose levels of patients\n"
     ]
    }
   ],
   "source": [
    "# The significance level is taken to be 5% (0.05)\n",
    "if(p_bar < 0.05):\n",
    "    print(\"We reject the Null hypothesis i.e. raw cornstarch diet has a positive effect on glucose levels of patients\")\n",
    "else:\n",
    "    print(\"We accept the Null hypothesis i.e. raw cornstarch diet has no effect on glucose levels of patients\")"
   ]
  },
  {
   "cell_type": "code",
   "execution_count": null,
   "metadata": {},
   "outputs": [],
   "source": []
  }
 ],
 "metadata": {
  "kernelspec": {
   "display_name": "Python 3",
   "language": "python",
   "name": "python3"
  },
  "language_info": {
   "codemirror_mode": {
    "name": "ipython",
    "version": 3
   },
   "file_extension": ".py",
   "mimetype": "text/x-python",
   "name": "python",
   "nbconvert_exporter": "python",
   "pygments_lexer": "ipython3",
   "version": "3.6.4"
  }
 },
 "nbformat": 4,
 "nbformat_minor": 2
}
