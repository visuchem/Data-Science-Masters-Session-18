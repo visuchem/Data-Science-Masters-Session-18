{
 "cells": [
  {
   "cell_type": "code",
   "execution_count": 1,
   "metadata": {},
   "outputs": [],
   "source": [
    "# You take the SAT and score 1100. The mean score for the SAT is 1026 and the standard\n",
    "# deviation is 209. How well did you score on the test compared to the average test taker?\n",
    "\n",
    "# Importing libraries\n",
    "\n",
    "import numpy as np\n",
    "import scipy\n",
    "import scipy.stats as stats\n",
    "\n",
    "my_score = 1100\n",
    "SAT_mean = 1026\n",
    "SAT_std = 209"
   ]
  },
  {
   "cell_type": "code",
   "execution_count": 2,
   "metadata": {},
   "outputs": [
    {
     "data": {
      "text/plain": [
       "0.35406698564593303"
      ]
     },
     "execution_count": 2,
     "metadata": {},
     "output_type": "execute_result"
    }
   ],
   "source": [
    "# Calculating Z-score\n",
    "\n",
    "Z = (my_score - SAT_mean) / SAT_std\n",
    "Z"
   ]
  },
  {
   "cell_type": "code",
   "execution_count": 3,
   "metadata": {},
   "outputs": [
    {
     "name": "stdout",
     "output_type": "stream",
     "text": [
      "The percentage by which I scored better than the average test taker is : 63.84 %\n"
     ]
    }
   ],
   "source": [
    "# Calculating the percentage by which my score is better than  the average test taker\n",
    "\n",
    "P = scipy.special.ndtr(Z)\n",
    "print(\"The percentage by which I scored better than the average test taker is :\", np.around(P*100,2), \"%\")\n",
    "\n",
    "# p-value(P), given the z-score(Z) from Z-Table, P = 0.6368 or 63.68%"
   ]
  },
  {
   "cell_type": "code",
   "execution_count": null,
   "metadata": {},
   "outputs": [],
   "source": []
  }
 ],
 "metadata": {
  "kernelspec": {
   "display_name": "Python 3",
   "language": "python",
   "name": "python3"
  },
  "language_info": {
   "codemirror_mode": {
    "name": "ipython",
    "version": 3
   },
   "file_extension": ".py",
   "mimetype": "text/x-python",
   "name": "python",
   "nbconvert_exporter": "python",
   "pygments_lexer": "ipython3",
   "version": "3.6.4"
  }
 },
 "nbformat": 4,
 "nbformat_minor": 2
}
