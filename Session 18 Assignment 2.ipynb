{
 "cells": [
  {
   "cell_type": "code",
   "execution_count": 2,
   "metadata": {},
   "outputs": [],
   "source": [
    "# In one state, 52% of the voters are Republicans, and 48% are Democrats. In a second\n",
    "# state, 47% of the voters are Republicans, and 53% are Democrats. Suppose a simple\n",
    "# random sample of 100 voters are surveyed from each state.\n",
    "# What is the probability that the survey will show a greater percentage of Republican\n",
    "# voters in the second state than in the first state?\n",
    "\n",
    "# Importing libraries\n",
    "\n",
    "import numpy as np\n",
    "import scipy.stats as stats\n",
    "import scipy\n",
    "import math"
   ]
  },
  {
   "cell_type": "code",
   "execution_count": 3,
   "metadata": {},
   "outputs": [],
   "source": [
    "n1 = 100 # Samples for state 1\n",
    "n2 = 100 # Samples for state 2\n",
    "\n",
    "P1 = 0.52 # The proportion of Republican voters in the first state\n",
    "P2 = 0.47 # The proportion of Republican voters in the second state"
   ]
  },
  {
   "cell_type": "markdown",
   "metadata": {},
   "source": [
    "# Sample sizes n1*P1 = 100 * 0.52 = 52, n1*(1 - P1) = 100 * 0.48 = 48, n2*P2 = 100 * 0.47 = 47, and n2*(1 - P2) = 100 * 0.53 = 53\n",
    "The sample sizes are greater than 10. So we can model the differences with a normal population."
   ]
  },
  {
   "cell_type": "code",
   "execution_count": 4,
   "metadata": {},
   "outputs": [
    {
     "data": {
      "text/plain": [
       "0.050000000000000044"
      ]
     },
     "execution_count": 4,
     "metadata": {},
     "output_type": "execute_result"
    }
   ],
   "source": [
    "# The mean of the difference in sample proportions, E(p1-p2) = P1 - P2, where \n",
    "# p1 = the proportion of Republican voters in the sample from the first state and\n",
    "# p2 =  the proportion of Republican voters in the sample from the second state\n",
    "\n",
    "mean_diff = P1 - P2\n",
    "mean_diff"
   ]
  },
  {
   "cell_type": "code",
   "execution_count": 5,
   "metadata": {},
   "outputs": [
    {
     "data": {
      "text/plain": [
       "0.07061869440877536"
      ]
     },
     "execution_count": 5,
     "metadata": {},
     "output_type": "execute_result"
    }
   ],
   "source": [
    "# The standard deviation of the difference in sample proportions\n",
    "\n",
    "std_diff = math.sqrt( (P1 * (1 - P1) / n1) + ( P2 *(1 - P2) / n2 )) \n",
    "std_diff"
   ]
  },
  {
   "cell_type": "code",
   "execution_count": 6,
   "metadata": {},
   "outputs": [
    {
     "data": {
      "text/plain": [
       "-0.7080278164104213"
      ]
     },
     "execution_count": 6,
     "metadata": {},
     "output_type": "execute_result"
    }
   ],
   "source": [
    "# To find probability(p_diff) that p1 is less than p2(i.e P((p1-p2)<0) ),\n",
    "# we need to find the z-score(z_diff) value and then find the value of p_diff\n",
    "\n",
    "z_diff = (0 - mean_diff)/(std_diff)\n",
    "z_diff"
   ]
  },
  {
   "cell_type": "code",
   "execution_count": 7,
   "metadata": {},
   "outputs": [
    {
     "name": "stdout",
     "output_type": "stream",
     "text": [
      "The probability that the survey will show a greater percentage of Republican voters in the second state than in the first state is :  0.24\n"
     ]
    }
   ],
   "source": [
    "# Probability(p_diff) that p1 is less than p2(i.e P((p1-p2)<0) )\n",
    "\n",
    "p_diff = scipy.special.ndtr(z_diff)\n",
    "print(\"The probability that the survey will show a greater percentage of Republican voters in the second state than in the first state is : \", np.around(p_diff,2))"
   ]
  },
  {
   "cell_type": "code",
   "execution_count": null,
   "metadata": {},
   "outputs": [],
   "source": []
  }
 ],
 "metadata": {
  "kernelspec": {
   "display_name": "Python 3",
   "language": "python",
   "name": "python3"
  },
  "language_info": {
   "codemirror_mode": {
    "name": "ipython",
    "version": 3
   },
   "file_extension": ".py",
   "mimetype": "text/x-python",
   "name": "python",
   "nbconvert_exporter": "python",
   "pygments_lexer": "ipython3",
   "version": "3.6.4"
  }
 },
 "nbformat": 4,
 "nbformat_minor": 2
}
